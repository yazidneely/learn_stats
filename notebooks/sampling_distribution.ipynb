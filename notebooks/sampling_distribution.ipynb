{
 "cells": [
  {
   "cell_type": "markdown",
   "id": "002b46ba-1149-42fc-bfe3-3ea4d47b2ca3",
   "metadata": {},
   "source": [
    "# Sampling Distribution\n",
    "\n",
    "A **sampling distribution** is a probability distribution of a statistic (like the mean, median, or proportion) calculated from multiple random samples of the same size drawn from a specific population. It helps us understand the behavior of a statistic and make inferences about the population based on sample data.\n",
    "\n",
    "The **Central Limit Theorem (CLT)** states that distribution of a sample distribution will be approximately normal, regardless of the original population distribution, as long as the sample size is sufficiently large. This means that even if the population data isn't normally distributed, the distribution of sample means will tend towards a normal distribution as the sample size increases. <br>\n",
    "A good rule of thumb is that if the sample distribution size is greater than or equal to 30, then the distribution will be normal."
   ]
  },
  {
   "cell_type": "markdown",
   "id": "bafde29d-524e-48ba-aa9c-d47db12e3ad9",
   "metadata": {},
   "source": [
    "# Example"
   ]
  },
  {
   "cell_type": "markdown",
   "id": "34fc03dc-f5c5-4846-a7a3-59e9e6c577fe",
   "metadata": {},
   "source": [
    "A company has been in business for the last year and has been receiving a certain number of help calls per hours. The call center has 6 employees that cover a shift, and each employee can take 4 calls an hour. From a sample from the last month, we would like to determine if the average number of calls per hours is greater than 10. We do not know the distribution of the number of calls per hour."
   ]
  },
  {
   "cell_type": "markdown",
   "id": "c6f6825d-5405-4f24-ac62-978c0720b0e2",
   "metadata": {},
   "source": [
    "1. We construct the population data.\n",
    "2. We will obtain a sample of that data\n",
    "3. We will conduct hypothesis testing\n",
    "4. We will compare to the true population parameter"
   ]
  },
  {
   "cell_type": "markdown",
   "id": "afff065e-1c7c-4bb8-b28d-2b11f5dfad49",
   "metadata": {},
   "source": [
    "## Step 1 - Contstruct the population data\n",
    "We don't know this population so we are not going to use any of the information used to contsruct the popluation until Step 4"
   ]
  },
  {
   "cell_type": "code",
   "execution_count": 401,
   "id": "bd1bef80-00db-4933-bb6c-255c7d4a7ef6",
   "metadata": {
    "jupyter": {
     "source_hidden": true
    }
   },
   "outputs": [],
   "source": [
    "import numpy as np\n",
    "import pandas as pd\n",
    "from scipy.stats import poisson\n",
    "from scipy.stats import norm\n",
    "import matplotlib.pyplot as plt\n",
    "N = 24*365\n",
    "theLambda = 10.35\n",
    "X = poisson.rvs(theLambda, size = N)\n",
    "#X = norm.rvs(theLambda,30,size = N)"
   ]
  },
  {
   "cell_type": "markdown",
   "id": "4f979509-834a-44f1-bbbc-f1d5ba7e07f0",
   "metadata": {},
   "source": [
    "## Step 2 - Obtain a sample of a months worth of data\n",
    "In order to get a months worth of samples, there are 24 hours in a day and 30 days in the months so we need 720 samples. From that we get a sample distributions of the means."
   ]
  },
  {
   "cell_type": "code",
   "execution_count": 402,
   "id": "8591971a-42f7-49e4-8cf2-7854578d5fa0",
   "metadata": {
    "jupyter": {
     "source_hidden": true
    }
   },
   "outputs": [],
   "source": [
    "numHoursPerDay=24\n",
    "numDays=30\n",
    "numSamples = numHoursPerDay*numDays;\n",
    "x=X[0:numSamples];\n",
    "n=np.linspace(0,numSamples,1);\n",
    "sampMean = np.zeros(numDays);\n",
    "for i in range(0,numDays):\n",
    "    startIndex=i*numHoursPerDay\n",
    "    index=np.linspace(0,numHoursPerDay-1,numHoursPerDay,dtype=int)+startIndex\n",
    "    sampMean[i]=np.mean(x[index])\n"
   ]
  },
  {
   "cell_type": "markdown",
   "id": "4b5f8b9c-8844-4160-a81a-717b6949195b",
   "metadata": {},
   "source": [
    "Visualize the sample distribution of $\\bar{x}$"
   ]
  },
  {
   "cell_type": "code",
   "execution_count": 438,
   "id": "39e00457-de69-4989-b519-0f453668161d",
   "metadata": {
    "jupyter": {
     "source_hidden": true
    },
    "scrolled": true
   },
   "outputs": [
    {
     "data": {
      "image/png": "[encoded data removed]",
      "text/plain": [
       "<Figure size 640x480 with 1 Axes>"
      ]
     },
     "metadata": {},
     "output_type": "display_data"
    }
   ],
   "source": [
    "plt.hist(sampMean,color='skyblue', edgecolor='black')\n",
    "plt.xlabel('Sample Means')\n",
    "plt.ylabel('Frequency')\n",
    "plt.title('Sample Distribution Histogram')\n",
    "plt.grid()\n",
    "plt.show()"
   ]
  },
  {
   "cell_type": "code",
   "execution_count": 404,
   "id": "1dc8a0ed-c080-4295-b140-1a28734d5f7b",
   "metadata": {
    "jupyter": {
     "source_hidden": true
    }
   },
   "outputs": [
    {
     "name": "stdout",
     "output_type": "stream",
     "text": [
      "10.311111111111112\n",
      "0.6242556231337035\n"
     ]
    },
    {
     "data": {
      "text/plain": [
       "count    30.000000\n",
       "mean     10.311111\n",
       "std       0.624256\n",
       "min       8.875000\n",
       "25%       9.958333\n",
       "50%      10.229167\n",
       "75%      10.666667\n",
       "max      11.541667\n",
       "dtype: float64"
      ]
     },
     "execution_count": 404,
     "metadata": {},
     "output_type": "execute_result"
    }
   ],
   "source": [
    "x_bar = np.mean(sampMean)\n",
    "s2 = np.sum((sampMean-x_bar)**2)/(numDays-1)\n",
    "print(x_bar)\n",
    "print(np.sqrt(s2))\n",
    "results = pd.Series(sampMean)\n",
    "results.describe()"
   ]
  },
  {
   "cell_type": "code",
   "execution_count": null,
   "id": "e4307d0d-881b-4a18-a16f-2af9028d2933",
   "metadata": {
    "jupyter": {
     "source_hidden": true
    }
   },
   "outputs": [],
   "source": []
  },
  {
   "cell_type": "markdown",
   "id": "596f7b4c-116f-402e-b878-237588c88bb3",
   "metadata": {},
   "source": [
    "## Step 3 - Hypotheses Testing\n",
    "\n",
    "The null hypothesis is that $\\bar{x}$ is less than 10\n",
    "$$H_0 : \\bar{x} \\leq 10 $$\n",
    "$$H_1 : \\bar{x} > 10 $$"
   ]
  },
  {
   "cell_type": "code",
   "execution_count": 481,
   "id": "3135dff5-ba8e-496c-89e9-6d2ef7ed4b02",
   "metadata": {},
   "outputs": [
    {
     "name": "stdout",
     "output_type": "stream",
     "text": [
      "The Z-score is: 2.7296922467537805\n",
      "The critical value is is: 1.9599639845400545\n",
      "The P-value is: 0.0031696737346517123\n"
     ]
    }
   ],
   "source": [
    "alpha = 0.025\n",
    "paramGuess = 10\n",
    "std_error = np.sqrt(s2/numDays)\n",
    "\n",
    "Z = (x_bar-paramGuess)/std_error\n",
    "z_criticalValue = -1*(norm.ppf(alpha)) #the one sided rejection region is on the right so the critical value must be positive\n",
    "print(\"The Z-score is: \"+str(Z))\n",
    "print(\"The critical value is is: \"+str(z_criticalValue))\n",
    "# Calculate the p-value\n",
    "beta= norm.cdf((Z));\n",
    "p_value = (1 - beta)\n",
    "print(\"The P-value is: \"+str(p_value)) "
   ]
  },
  {
   "cell_type": "code",
   "execution_count": 482,
   "id": "b5597501-11bd-4b33-b785-5dce82633302",
   "metadata": {},
   "outputs": [
    {
     "name": "stdout",
     "output_type": "stream",
     "text": [
      "At the 0.32% significance level, we reject the null hypothesis\n",
      "We are 99.68 % sure that the average number of calls per hours is greater than 10\n",
      "We are 97.5 confident that the true average calls per hours is in between [10.055651802882528 , 10.566570419339696 ]\n"
     ]
    }
   ],
   "source": [
    "\n",
    "if(p_value < alpha):\n",
    "    print(f\"At the {round(p_value*100,2)}% significance level, we reject the null hypothesis\")\n",
    "    print(f\"We are {round(beta*100,2)} % sure that the average number of calls per hours is greater than {paramGuess}\")\n",
    "else:#Accept the null hypothesis\n",
    "    print(f\"There is insufficient evidence to reject the claim that the number of call per hours is less than or equal to {paramGuess} with more than {round((1-alpha)*100,2)}% confidence\")\n",
    "    #print(f\"We are {round((1-alpha)*100,2)} % sure that the average number of calls per hours is less than or equal to {paramGuess}\")\n",
    "\n",
    "mean_error = abs(norm.ppf(alpha/2))*std_error;\n",
    "CI_low = x_bar - mean_error\n",
    "CI_high = x_bar + mean_error\n",
    "\n",
    "print(f\"We are {round((1-alpha)*100,2)} confident that the true average calls per hours is in between [{CI_low} , {CI_high} ]\")"
   ]
  },
  {
   "cell_type": "markdown",
   "id": "0fe90145-93d2-4a30-9d01-6c32675925a7",
   "metadata": {},
   "source": [
    "## Step 4 - Compare to true population parameter"
   ]
  },
  {
   "cell_type": "code",
   "execution_count": 483,
   "id": "92569142-9176-4b17-9bb6-775b669d1339",
   "metadata": {
    "jupyter": {
     "source_hidden": true
    }
   },
   "outputs": [
    {
     "name": "stdout",
     "output_type": "stream",
     "text": [
      "The true average number of calls per hours is: 10.316552511415525\n"
     ]
    }
   ],
   "source": [
    "popMean = np.mean(X)\n",
    "print(f\"The true average number of calls per hours is: {popMean}\")"
   ]
  },
  {
   "cell_type": "code",
   "execution_count": null,
   "id": "0252f82b-7593-4ccc-9837-15986cf17869",
   "metadata": {},
   "outputs": [],
   "source": []
  }
 ],
 "metadata": {
  "kernelspec": {
   "display_name": "Python [conda env:base] *",
   "language": "python",
   "name": "conda-base-py"
  },
  "language_info": {
   "codemirror_mode": {
    "name": "ipython",
    "version": 3
   },
   "file_extension": ".py",
   "mimetype": "text/x-python",
   "name": "python",
   "nbconvert_exporter": "python",
   "pygments_lexer": "ipython3",
   "version": "3.13.5"
  }
 },
 "nbformat": 4,
 "nbformat_minor": 5
}
